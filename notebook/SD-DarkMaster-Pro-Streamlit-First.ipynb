#@title 🚀 SD-DarkMaster-Pro - Complete Interface Launch
# This single cell launches the entire SD-DarkMaster-Pro interface!
# No need to run any other cells - everything is controlled through the UI.

from pathlib import Path
import os, sys, subprocess, threading, time

# Platform detection and setup
platform = 'colab' if os.path.exists('/content') else 'kaggle' if os.path.exists('/kaggle') else 'workspace' if os.path.exists('/workspace') else 'local'
root = {'colab': '/content', 'kaggle': '/kaggle/working', 'workspace': '/workspace'}.get(platform, str(Path.home()))
project_root = Path(root) / 'SD-DarkMaster-Pro'

# Clone if needed (for cloud platforms)
if not project_root.exists() and platform in ['colab', 'kaggle']:
    subprocess.run(['git', 'clone', 'https://github.com/anxietysolo/SD-DarkMaster-Pro.git', str(project_root)])

# Setup environment
sys.path.insert(0, str(project_root))
setup_script = project_root / 'scripts' / 'setup.py'
if setup_script.exists():
    exec(open(setup_script).read())

# Launch Streamlit UI
def launch_ui():
    subprocess.run([sys.executable, '-m', 'streamlit', 'run', 
                    str(project_root / 'streamlit_master_ui.py'),
                    '--server.port', '8501', '--server.address', '0.0.0.0'])

ui_thread = threading.Thread(target=launch_ui, daemon=True)
ui_thread.start()
time.sleep(5)

# Setup public access for cloud platforms
if platform in ['colab', 'kaggle']:
    from pyngrok import ngrok
    public_url = ngrok.connect(8501, 'http')
    access_url = str(public_url)
else:
    access_url = 'http://localhost:8501'

print(f"\n✅ Interface ready at: {access_url}")
print("\n📝 The UI controls everything - no need to run other cells!")