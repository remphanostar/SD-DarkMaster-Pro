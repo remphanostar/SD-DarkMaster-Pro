{
 "cells": [
  {
   "cell_type": "markdown",
   "id": "a6c5e2ab",
   "metadata": {
    "tags": [
     "papermill-error-cell-tag"
    ]
   },
   "source": [
    "<span style=\"color:red; font-family:Helvetica Neue, Helvetica, Arial, sans-serif; font-size:2em;\">An Exception was encountered at '<a href=\"#papermill-error-cell\">In [2]</a>'.</span>"
   ]
  },
  {
   "cell_type": "code",
   "execution_count": 1,
   "id": "1b20da32",
   "metadata": {
    "execution": {
     "iopub.execute_input": "2025-08-23T14:09:42.276594Z",
     "iopub.status.busy": "2025-08-23T14:09:42.276432Z",
     "iopub.status.idle": "2025-08-23T14:09:45.810300Z",
     "shell.execute_reply": "2025-08-23T14:09:45.809489Z"
    },
    "papermill": {
     "duration": 3.536438,
     "end_time": "2025-08-23T14:09:45.811434",
     "exception": false,
     "start_time": "2025-08-23T14:09:42.274996",
     "status": "completed"
    },
    "tags": []
   },
   "outputs": [
    {
     "name": "stdout",
     "output_type": "stream",
     "text": [
      "✅ SD-DarkMaster-Pro already exists at /workspace\n",
      "🔧 Running setup for workspace platform...\n",
      "2025-08-23 14:09:42,285 | WARNING | Extensions file not found: /workspace/SD-DarkMaster-Pro/scripts/_extensions.txt\n"
     ]
    },
    {
     "name": "stdout",
     "output_type": "stream",
     "text": [
      "\n",
      "============================================================\n",
      "🌟 SD-DarkMaster-Pro Setup v1.0.0\n",
      "🎨 Dark Mode Pro Theme Activated\n",
      "🖥️  Platform: workspace\n",
      "🚀 GPU Available: False\n",
      "============================================================\n",
      "\n",
      "2025-08-23 14:09:42,287 | INFO | Session initialized: fadf8485\n"
     ]
    },
    {
     "name": "stdout",
     "output_type": "stream",
     "text": [
      "2025-08-23 14:09:42,288 | INFO | Installing core dependencies...\n"
     ]
    },
    {
     "name": "stdout",
     "output_type": "stream",
     "text": [
      "2025-08-23 14:09:42,289 | INFO | Installing 27 dependencies for workspace\n"
     ]
    },
    {
     "name": "stdout",
     "output_type": "stream",
     "text": [
      "2025-08-23 14:09:43,420 | INFO | Installed batch 1: ['streamlit>=1.29.0', 'gradio>=4.0.0', 'torch>=2.0.0', 'streamlit-option-menu>=0.3.6', 'streamlit-antd-components>=0.3.0']\n"
     ]
    },
    {
     "name": "stdout",
     "output_type": "stream",
     "text": [
      "2025-08-23 14:09:44,031 | INFO | Installed batch 2: ['streamlit-card>=0.0.5', 'streamlit-extras>=0.3.6', 'torchvision', 'transformers>=4.30.0', 'diffusers>=0.21.0']\n"
     ]
    },
    {
     "name": "stdout",
     "output_type": "stream",
     "text": [
      "2025-08-23 14:09:44,491 | INFO | Installed batch 3: ['accelerate', 'xformers', 'opencv-python', 'Pillow>=10.0.0', 'numpy']\n"
     ]
    },
    {
     "name": "stdout",
     "output_type": "stream",
     "text": [
      "2025-08-23 14:09:44,929 | INFO | Installed batch 4: ['pandas', 'requests', 'tqdm', 'pyyaml', 'jsonschema']\n"
     ]
    },
    {
     "name": "stdout",
     "output_type": "stream",
     "text": [
      "2025-08-23 14:09:45,373 | INFO | Installed batch 5: ['aiohttp', 'aiofiles', 'psutil', 'matplotlib', 'seaborn']\n"
     ]
    },
    {
     "name": "stdout",
     "output_type": "stream",
     "text": [
      "2025-08-23 14:09:45,795 | INFO | Installed batch 6: ['plotly', 'rich']\n"
     ]
    },
    {
     "name": "stdout",
     "output_type": "stream",
     "text": [
      "2025-08-23 14:09:45,796 | INFO | Setting up unified storage...\n"
     ]
    },
    {
     "name": "stdout",
     "output_type": "stream",
     "text": [
      "2025-08-23 14:09:45,796 | INFO | Setting up unified storage structure...\n"
     ]
    },
    {
     "name": "stdout",
     "output_type": "stream",
     "text": [
      "2025-08-23 14:09:45,797 | INFO | Created checkpoints directory: /workspace/SD-DarkMaster-Pro/storage/models/Stable-diffusion\n"
     ]
    },
    {
     "name": "stdout",
     "output_type": "stream",
     "text": [
      "2025-08-23 14:09:45,798 | INFO | Created vae directory: /workspace/SD-DarkMaster-Pro/storage/models/VAE\n"
     ]
    },
    {
     "name": "stdout",
     "output_type": "stream",
     "text": [
      "2025-08-23 14:09:45,798 | INFO | Created lora directory: /workspace/SD-DarkMaster-Pro/storage/models/Lora\n"
     ]
    },
    {
     "name": "stdout",
     "output_type": "stream",
     "text": [
      "2025-08-23 14:09:45,798 | INFO | Created embeddings directory: /workspace/SD-DarkMaster-Pro/storage/embeddings\n"
     ]
    },
    {
     "name": "stdout",
     "output_type": "stream",
     "text": [
      "2025-08-23 14:09:45,799 | INFO | Created hypernetworks directory: /workspace/SD-DarkMaster-Pro/storage/models/hypernetworks\n"
     ]
    },
    {
     "name": "stdout",
     "output_type": "stream",
     "text": [
      "2025-08-23 14:09:45,799 | INFO | Created controlnet directory: /workspace/SD-DarkMaster-Pro/storage/models/ControlNet\n"
     ]
    },
    {
     "name": "stdout",
     "output_type": "stream",
     "text": [
      "2025-08-23 14:09:45,799 | INFO | Created upscalers directory: /workspace/SD-DarkMaster-Pro/storage/models/ESRGAN\n"
     ]
    },
    {
     "name": "stdout",
     "output_type": "stream",
     "text": [
      "2025-08-23 14:09:45,803 | INFO | Creating configuration files...\n"
     ]
    },
    {
     "name": "stdout",
     "output_type": "stream",
     "text": [
      "2025-08-23 14:09:45,804 | INFO | Created Streamlit config: /workspace/SD-DarkMaster-Pro/configs/streamlit/config.toml\n"
     ]
    },
    {
     "name": "stdout",
     "output_type": "stream",
     "text": [
      "2025-08-23 14:09:45,804 | INFO | Created Gradio config: /workspace/SD-DarkMaster-Pro/configs/gradio_fallback/interface_config.json\n"
     ]
    },
    {
     "name": "stdout",
     "output_type": "stream",
     "text": [
      "2025-08-23 14:09:45,806 | INFO | Created environment config: /workspace/SD-DarkMaster-Pro/configs/environment.json\n"
     ]
    },
    {
     "name": "stdout",
     "output_type": "stream",
     "text": [
      "\n",
      "============================================================\n",
      "✅ Setup Complete!\n",
      "⏱️  Duration: 3.52 seconds\n",
      "📁 Project Root: /workspace/SD-DarkMaster-Pro\n",
      "🎨 Theme: Dark Mode Pro\n",
      "🚀 Status: Ready to launch\n",
      "============================================================\n",
      "\n"
     ]
    },
    {
     "name": "stderr",
     "output_type": "stream",
     "text": [
      "<string>:661: RuntimeWarning: coroutine 'SetupOrchestrator.run_setup' was never awaited\n",
      "RuntimeWarning: Enable tracemalloc to get the object allocation traceback\n"
     ]
    }
   ],
   "source": [
    "#@title Cell 1: Setup Environment ⚙️\n",
    "from pathlib import Path\n",
    "import os, sys\n",
    "import subprocess\n",
    "\n",
    "def detect_current_platform():\n",
    "    if os.path.exists('/content'): return 'colab'\n",
    "    elif os.path.exists('/kaggle'): return 'kaggle'\n",
    "    elif os.path.exists('/workspace'): return 'workspace'\n",
    "    else: return 'local'\n",
    "\n",
    "def get_platform_root():\n",
    "    platform = detect_current_platform()\n",
    "    if platform == 'colab': return Path('/content')\n",
    "    elif platform == 'kaggle': return Path('/kaggle/working')\n",
    "    elif platform == 'workspace': return Path('/workspace')\n",
    "    else: return Path.home()\n",
    "\n",
    "platform_detected = detect_current_platform()\n",
    "project_root = get_platform_root()  # Fixed: Use workspace root directly\n",
    "scripts_dir = project_root / 'scripts'\n",
    "\n",
    "if not project_root.exists():\n",
    "    print(f\"🚀 Initializing SD-DarkMaster-Pro on {platform_detected} platform...\")\n",
    "    repo_url = \"https://github.com/remphanostar/SD-DarkMaster-Pro.git\"\n",
    "    subprocess.run(['git', 'clone', repo_url, str(project_root)], check=True)\n",
    "    print(\"✅ Repository cloned successfully!\")\n",
    "else:\n",
    "    print(f\"✅ SD-DarkMaster-Pro already exists at {project_root}\")\n",
    "    \n",
    "sys.path.insert(0, str(project_root))\n",
    "\n",
    "setup_script = scripts_dir / 'setup.py'\n",
    "if setup_script.exists():\n",
    "    print(f\"🔧 Running setup for {platform_detected} platform...\")\n",
    "    exec(open(setup_script).read())"
   ]
  },
  {
   "cell_type": "markdown",
   "id": "8d980968",
   "metadata": {
    "tags": [
     "papermill-error-cell-tag"
    ]
   },
   "source": [
    "<span id=\"papermill-error-cell\" style=\"color:red; font-family:Helvetica Neue, Helvetica, Arial, sans-serif; font-size:2em;\">Execution using papermill encountered an exception here and stopped:</span>"
   ]
  },
  {
   "cell_type": "code",
   "execution_count": 2,
   "id": "f7b5ad06",
   "metadata": {
    "execution": {
     "iopub.execute_input": "2025-08-23T14:09:45.815781Z",
     "iopub.status.busy": "2025-08-23T14:09:45.815626Z",
     "iopub.status.idle": "2025-08-23T14:09:45.917127Z",
     "shell.execute_reply": "2025-08-23T14:09:45.916463Z"
    },
    "papermill": {
     "duration": 0.105043,
     "end_time": "2025-08-23T14:09:45.918330",
     "exception": true,
     "start_time": "2025-08-23T14:09:45.813287",
     "status": "failed"
    },
    "tags": []
   },
   "outputs": [
    {
     "ename": "FileNotFoundError",
     "evalue": "[Errno 2] No such file or directory: '/workspace/SD-DarkMaster-Pro/scripts/widgets-en.py'",
     "output_type": "error",
     "traceback": [
      "\u001b[31m---------------------------------------------------------------------------\u001b[39m",
      "\u001b[31mFileNotFoundError\u001b[39m                         Traceback (most recent call last)",
      "\u001b[36mCell\u001b[39m\u001b[36m \u001b[39m\u001b[32mIn[2]\u001b[39m\u001b[32m, line 4\u001b[39m\n\u001b[32m      2\u001b[39m \u001b[38;5;28;01mimport\u001b[39;00m\u001b[38;5;250m \u001b[39m\u001b[34;01mos\u001b[39;00m\n\u001b[32m      3\u001b[39m os.environ[\u001b[33m'\u001b[39m\u001b[33mNGROK_AUTH_TOKEN\u001b[39m\u001b[33m'\u001b[39m] = \u001b[33m'\u001b[39m\u001b[33m2tjxIXifSaGR3dMhkvhk6sZqbGo_6ZfBZLZHMbtAjfRmfoDW5\u001b[39m\u001b[33m'\u001b[39m\n\u001b[32m----> \u001b[39m\u001b[32m4\u001b[39m \u001b[43mexec\u001b[49m\u001b[43m(\u001b[49m\u001b[38;5;28;43mopen\u001b[39;49m\u001b[43m(\u001b[49m\u001b[33;43mf\u001b[39;49m\u001b[33;43m'\u001b[39;49m\u001b[38;5;132;43;01m{\u001b[39;49;00m\u001b[43mscripts_dir\u001b[49m\u001b[38;5;132;43;01m}\u001b[39;49;00m\u001b[33;43m/cell2_ngrok_launcher.py\u001b[39;49m\u001b[33;43m'\u001b[39;49m\u001b[43m)\u001b[49m\u001b[43m.\u001b[49m\u001b[43mread\u001b[49m\u001b[43m(\u001b[49m\u001b[43m)\u001b[49m\u001b[43m)\u001b[49m\n",
      "\u001b[36mFile \u001b[39m\u001b[32m<string>:56\u001b[39m\n",
      "\u001b[36mFile \u001b[39m\u001b[32m/workspace/ai_tools_env/lib/python3.13/site-packages/IPython/core/interactiveshell.py:343\u001b[39m, in \u001b[36m_modified_open\u001b[39m\u001b[34m(file, *args, **kwargs)\u001b[39m\n\u001b[32m    336\u001b[39m \u001b[38;5;28;01mif\u001b[39;00m file \u001b[38;5;129;01min\u001b[39;00m {\u001b[32m0\u001b[39m, \u001b[32m1\u001b[39m, \u001b[32m2\u001b[39m}:\n\u001b[32m    337\u001b[39m     \u001b[38;5;28;01mraise\u001b[39;00m \u001b[38;5;167;01mValueError\u001b[39;00m(\n\u001b[32m    338\u001b[39m         \u001b[33mf\u001b[39m\u001b[33m\"\u001b[39m\u001b[33mIPython won\u001b[39m\u001b[33m'\u001b[39m\u001b[33mt let you open fd=\u001b[39m\u001b[38;5;132;01m{\u001b[39;00mfile\u001b[38;5;132;01m}\u001b[39;00m\u001b[33m by default \u001b[39m\u001b[33m\"\u001b[39m\n\u001b[32m    339\u001b[39m         \u001b[33m\"\u001b[39m\u001b[33mas it is likely to crash IPython. If you know what you are doing, \u001b[39m\u001b[33m\"\u001b[39m\n\u001b[32m    340\u001b[39m         \u001b[33m\"\u001b[39m\u001b[33myou can use builtins\u001b[39m\u001b[33m'\u001b[39m\u001b[33m open.\u001b[39m\u001b[33m\"\u001b[39m\n\u001b[32m    341\u001b[39m     )\n\u001b[32m--> \u001b[39m\u001b[32m343\u001b[39m \u001b[38;5;28;01mreturn\u001b[39;00m \u001b[43mio_open\u001b[49m\u001b[43m(\u001b[49m\u001b[43mfile\u001b[49m\u001b[43m,\u001b[49m\u001b[43m \u001b[49m\u001b[43m*\u001b[49m\u001b[43margs\u001b[49m\u001b[43m,\u001b[49m\u001b[43m \u001b[49m\u001b[43m*\u001b[49m\u001b[43m*\u001b[49m\u001b[43mkwargs\u001b[49m\u001b[43m)\u001b[49m\n",
      "\u001b[31mFileNotFoundError\u001b[39m: [Errno 2] No such file or directory: '/workspace/SD-DarkMaster-Pro/scripts/widgets-en.py'"
     ]
    }
   ],
   "source": [
    "#@title Cell 2: Hybrid Dashboard with Ngrok 🌟\n",
    "import os\n",
    "os.environ['NGROK_AUTH_TOKEN'] = '2tjxIXifSaGR3dMhkvhk6sZqbGo_6ZfBZLZHMbtAjfRmfoDW5'\n",
    "exec(open(f'{scripts_dir}/cell2_ngrok_launcher.py').read())"
   ]
  },
  {
   "cell_type": "code",
   "execution_count": null,
   "id": "0b0102bc",
   "metadata": {
    "papermill": {
     "duration": null,
     "end_time": null,
     "exception": null,
     "start_time": null,
     "status": "pending"
    },
    "tags": []
   },
   "outputs": [],
   "source": [
    "#@title Cell 3: Downloads 📦\n",
    "%run $scripts_dir/downloading-en.py"
   ]
  },
  {
   "cell_type": "code",
   "execution_count": null,
   "id": "089357fc",
   "metadata": {
    "papermill": {
     "duration": null,
     "end_time": null,
     "exception": null,
     "start_time": null,
     "status": "pending"
    },
    "tags": []
   },
   "outputs": [],
   "source": [
    "#@title Cell 4: WebUI Launch 🚀\n",
    "%run $scripts_dir/launch.py"
   ]
  },
  {
   "cell_type": "code",
   "execution_count": null,
   "id": "9bed58bb",
   "metadata": {
    "papermill": {
     "duration": null,
     "end_time": null,
     "exception": null,
     "start_time": null,
     "status": "pending"
    },
    "tags": []
   },
   "outputs": [],
   "source": [
    "#@title Cell 5: Storage Management 🧹\n",
    "%run $scripts_dir/auto-cleaner.py"
   ]
  }
 ],
 "metadata": {
  "kernelspec": {
   "display_name": "Python 3",
   "language": "python",
   "name": "python3"
  },
  "language_info": {
   "codemirror_mode": {
    "name": "ipython",
    "version": 3
   },
   "file_extension": ".py",
   "mimetype": "text/x-python",
   "name": "python",
   "nbconvert_exporter": "python",
   "pygments_lexer": "ipython3",
   "version": "3.13.3"
  },
  "papermill": {
   "default_parameters": {},
   "duration": 4.834805,
   "end_time": "2025-08-23T14:09:46.136252",
   "environment_variables": {},
   "exception": true,
   "input_path": "notebook/SD-DarkMaster-Pro.ipynb",
   "output_path": "notebook/output_test.ipynb",
   "parameters": {},
   "start_time": "2025-08-23T14:09:41.301447",
   "version": "2.6.0"
  }
 },
 "nbformat": 4,
 "nbformat_minor": 5
}