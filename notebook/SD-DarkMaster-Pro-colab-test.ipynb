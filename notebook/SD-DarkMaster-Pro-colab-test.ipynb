{
 "cells": [
  {
   "cell_type": "markdown",
   "id": "b9d936e9",
   "metadata": {
    "tags": [
     "papermill-error-cell-tag"
    ]
   },
   "source": [
    "<span style=\"color:red; font-family:Helvetica Neue, Helvetica, Arial, sans-serif; font-size:2em;\">An Exception was encountered at '<a href=\"#papermill-error-cell\">In [2]</a>'.</span>"
   ]
  },
  {
   "cell_type": "code",
   "execution_count": 1,
   "id": "1b20da32",
   "metadata": {
    "execution": {
     "iopub.execute_input": "2025-08-21T16:30:38.611583Z",
     "iopub.status.busy": "2025-08-21T16:30:38.611431Z",
     "iopub.status.idle": "2025-08-21T16:30:38.616932Z",
     "shell.execute_reply": "2025-08-21T16:30:38.616100Z"
    },
    "papermill": {
     "duration": 0.008584,
     "end_time": "2025-08-21T16:30:38.618048",
     "exception": false,
     "start_time": "2025-08-21T16:30:38.609464",
     "status": "completed"
    },
    "tags": []
   },
   "outputs": [
    {
     "name": "stdout",
     "output_type": "stream",
     "text": [
      "✅ SD-DarkMaster-Pro already exists at /content/SD-DarkMaster-Pro\n"
     ]
    }
   ],
   "source": [
    "#@title Cell 1: Setup Environment ⚙️\n",
    "from pathlib import Path\n",
    "import os, sys\n",
    "import subprocess\n",
    "\n",
    "def detect_current_platform():\n",
    "    if os.path.exists('/content'): return 'colab'\n",
    "    elif os.path.exists('/kaggle'): return 'kaggle'\n",
    "    elif os.path.exists('/workspace'): return 'workspace'\n",
    "    else: return 'local'\n",
    "\n",
    "def get_platform_root():\n",
    "    platform = detect_current_platform()\n",
    "    if platform == 'colab': return Path('/content')\n",
    "    elif platform == 'kaggle': return Path('/kaggle/working')\n",
    "    elif platform == 'workspace': return Path('/workspace')\n",
    "    else: return Path.home()\n",
    "\n",
    "platform_detected = detect_current_platform()\n",
    "project_root = get_platform_root() / 'SD-DarkMaster-Pro'\n",
    "scripts_dir = project_root / 'scripts'\n",
    "\n",
    "if not project_root.exists():\n",
    "    print(f\"🚀 Initializing SD-DarkMaster-Pro on {platform_detected} platform...\")\n",
    "    repo_url = \"https://github.com/remphanostar/SD-DarkMaster-Pro.git\"\n",
    "    subprocess.run(['git', 'clone', repo_url, str(project_root)], check=True)\n",
    "    print(\"✅ Repository cloned successfully!\")\n",
    "else:\n",
    "    print(f\"✅ SD-DarkMaster-Pro already exists at {project_root}\")\n",
    "    \n",
    "sys.path.insert(0, str(project_root))\n",
    "\n",
    "setup_script = scripts_dir / 'setup.py'\n",
    "if setup_script.exists():\n",
    "    print(f\"🔧 Running setup for {platform_detected} platform...\")\n",
    "    exec(open(setup_script).read())"
   ]
  },
  {
   "cell_type": "markdown",
   "id": "322d2b69",
   "metadata": {
    "tags": [
     "papermill-error-cell-tag"
    ]
   },
   "source": [
    "<span id=\"papermill-error-cell\" style=\"color:red; font-family:Helvetica Neue, Helvetica, Arial, sans-serif; font-size:2em;\">Execution using papermill encountered an exception here and stopped:</span>"
   ]
  },
  {
   "cell_type": "code",
   "execution_count": 2,
   "id": "f419a409",
   "metadata": {
    "execution": {
     "iopub.execute_input": "2025-08-21T16:30:38.620474Z",
     "iopub.status.busy": "2025-08-21T16:30:38.620321Z",
     "iopub.status.idle": "2025-08-21T16:30:38.821071Z",
     "shell.execute_reply": "2025-08-21T16:30:38.819932Z"
    },
    "papermill": {
     "duration": 0.203042,
     "end_time": "2025-08-21T16:30:38.822031",
     "exception": true,
     "start_time": "2025-08-21T16:30:38.618989",
     "status": "failed"
    },
    "tags": []
   },
   "outputs": [
    {
     "ename": "Exception",
     "evalue": "File `'/content/SD-DarkMaster-Pro/scripts/widgets-en.py'` not found.",
     "output_type": "error",
     "traceback": [
      "\u001b[31m---------------------------------------------------------------------------\u001b[39m",
      "\u001b[31mOSError\u001b[39m                                   Traceback (most recent call last)",
      "\u001b[36mFile \u001b[39m\u001b[32m/workspace/ai_tools_env/lib/python3.13/site-packages/IPython/core/magics/execution.py:728\u001b[39m, in \u001b[36mExecutionMagics.run\u001b[39m\u001b[34m(self, parameter_s, runner, file_finder)\u001b[39m\n\u001b[32m    727\u001b[39m     fpath = arg_lst[\u001b[32m0\u001b[39m]\n\u001b[32m--> \u001b[39m\u001b[32m728\u001b[39m     filename = \u001b[43mfile_finder\u001b[49m\u001b[43m(\u001b[49m\u001b[43mfpath\u001b[49m\u001b[43m)\u001b[49m\n\u001b[32m    729\u001b[39m \u001b[38;5;28;01mexcept\u001b[39;00m \u001b[38;5;167;01mIndexError\u001b[39;00m \u001b[38;5;28;01mas\u001b[39;00m e:\n",
      "\u001b[36mFile \u001b[39m\u001b[32m/workspace/ai_tools_env/lib/python3.13/site-packages/IPython/utils/path.py:90\u001b[39m, in \u001b[36mget_py_filename\u001b[39m\u001b[34m(name)\u001b[39m\n\u001b[32m     89\u001b[39m         \u001b[38;5;28;01mreturn\u001b[39;00m py_name\n\u001b[32m---> \u001b[39m\u001b[32m90\u001b[39m \u001b[38;5;28;01mraise\u001b[39;00m \u001b[38;5;167;01mIOError\u001b[39;00m(\u001b[33m\"\u001b[39m\u001b[33mFile `\u001b[39m\u001b[38;5;132;01m%r\u001b[39;00m\u001b[33m` not found.\u001b[39m\u001b[33m\"\u001b[39m % name)\n",
      "\u001b[31mOSError\u001b[39m: File `'/content/SD-DarkMaster-Pro/scripts/widgets-en.py'` not found.",
      "\nThe above exception was the direct cause of the following exception:\n",
      "\u001b[31mException\u001b[39m                                 Traceback (most recent call last)",
      "\u001b[36mCell\u001b[39m\u001b[36m \u001b[39m\u001b[32mIn[2]\u001b[39m\u001b[32m, line 2\u001b[39m\n\u001b[32m      1\u001b[39m \u001b[38;5;66;03m#@title Cell 2: Hybrid Dashboard 🌟\u001b[39;00m\n\u001b[32m----> \u001b[39m\u001b[32m2\u001b[39m \u001b[43mget_ipython\u001b[49m\u001b[43m(\u001b[49m\u001b[43m)\u001b[49m\u001b[43m.\u001b[49m\u001b[43mrun_line_magic\u001b[49m\u001b[43m(\u001b[49m\u001b[33;43m'\u001b[39;49m\u001b[33;43mrun\u001b[39;49m\u001b[33;43m'\u001b[39;49m\u001b[43m,\u001b[49m\u001b[43m \u001b[49m\u001b[33;43m'\u001b[39;49m\u001b[33;43m$scripts_dir/widgets-en.py\u001b[39;49m\u001b[33;43m'\u001b[39;49m\u001b[43m)\u001b[49m\n",
      "\u001b[36mFile \u001b[39m\u001b[32m/workspace/ai_tools_env/lib/python3.13/site-packages/IPython/core/interactiveshell.py:2504\u001b[39m, in \u001b[36mInteractiveShell.run_line_magic\u001b[39m\u001b[34m(self, magic_name, line, _stack_depth)\u001b[39m\n\u001b[32m   2502\u001b[39m     kwargs[\u001b[33m'\u001b[39m\u001b[33mlocal_ns\u001b[39m\u001b[33m'\u001b[39m] = \u001b[38;5;28mself\u001b[39m.get_local_scope(stack_depth)\n\u001b[32m   2503\u001b[39m \u001b[38;5;28;01mwith\u001b[39;00m \u001b[38;5;28mself\u001b[39m.builtin_trap:\n\u001b[32m-> \u001b[39m\u001b[32m2504\u001b[39m     result = \u001b[43mfn\u001b[49m\u001b[43m(\u001b[49m\u001b[43m*\u001b[49m\u001b[43margs\u001b[49m\u001b[43m,\u001b[49m\u001b[43m \u001b[49m\u001b[43m*\u001b[49m\u001b[43m*\u001b[49m\u001b[43mkwargs\u001b[49m\u001b[43m)\u001b[49m\n\u001b[32m   2506\u001b[39m \u001b[38;5;66;03m# The code below prevents the output from being displayed\u001b[39;00m\n\u001b[32m   2507\u001b[39m \u001b[38;5;66;03m# when using magics with decorator @output_can_be_silenced\u001b[39;00m\n\u001b[32m   2508\u001b[39m \u001b[38;5;66;03m# when the last Python token in the expression is a ';'.\u001b[39;00m\n\u001b[32m   2509\u001b[39m \u001b[38;5;28;01mif\u001b[39;00m \u001b[38;5;28mgetattr\u001b[39m(fn, magic.MAGIC_OUTPUT_CAN_BE_SILENCED, \u001b[38;5;28;01mFalse\u001b[39;00m):\n",
      "\u001b[36mFile \u001b[39m\u001b[32m/workspace/ai_tools_env/lib/python3.13/site-packages/IPython/core/magics/execution.py:739\u001b[39m, in \u001b[36mExecutionMagics.run\u001b[39m\u001b[34m(self, parameter_s, runner, file_finder)\u001b[39m\n\u001b[32m    737\u001b[39m     \u001b[38;5;28;01mif\u001b[39;00m os.name == \u001b[33m'\u001b[39m\u001b[33mnt\u001b[39m\u001b[33m'\u001b[39m \u001b[38;5;129;01mand\u001b[39;00m re.match(\u001b[33mr\u001b[39m\u001b[33m\"\u001b[39m\u001b[33m^\u001b[39m\u001b[33m'\u001b[39m\u001b[33m.*\u001b[39m\u001b[33m'\u001b[39m\u001b[33m$\u001b[39m\u001b[33m\"\u001b[39m,fpath):\n\u001b[32m    738\u001b[39m         warn(\u001b[33m'\u001b[39m\u001b[33mFor Windows, use double quotes to wrap a filename: \u001b[39m\u001b[38;5;132;01m%r\u001b[39;00m\u001b[33mun \u001b[39m\u001b[33m\"\u001b[39m\u001b[33mmypath\u001b[39m\u001b[38;5;130;01m\\\\\u001b[39;00m\u001b[33mmyfile.py\u001b[39m\u001b[33m\"\u001b[39m\u001b[33m'\u001b[39m)\n\u001b[32m--> \u001b[39m\u001b[32m739\u001b[39m     \u001b[38;5;28;01mraise\u001b[39;00m \u001b[38;5;167;01mException\u001b[39;00m(msg) \u001b[38;5;28;01mfrom\u001b[39;00m\u001b[38;5;250m \u001b[39m\u001b[34;01me\u001b[39;00m\n\u001b[32m    740\u001b[39m \u001b[38;5;28;01mexcept\u001b[39;00m \u001b[38;5;167;01mTypeError\u001b[39;00m:\n\u001b[32m    741\u001b[39m     \u001b[38;5;28;01mif\u001b[39;00m fpath \u001b[38;5;129;01min\u001b[39;00m sys.meta_path:\n",
      "\u001b[31mException\u001b[39m: File `'/content/SD-DarkMaster-Pro/scripts/widgets-en.py'` not found."
     ]
    }
   ],
   "source": [
    "#@title Cell 2: Hybrid Dashboard 🌟\n",
    "%run $scripts_dir/widgets-en.py"
   ]
  },
  {
   "cell_type": "code",
   "execution_count": null,
   "id": "0b0102bc",
   "metadata": {
    "papermill": {
     "duration": null,
     "end_time": null,
     "exception": null,
     "start_time": null,
     "status": "pending"
    },
    "tags": []
   },
   "outputs": [],
   "source": [
    "#@title Cell 3: Downloads 📦\n",
    "%run $scripts_dir/downloading-en.py"
   ]
  },
  {
   "cell_type": "code",
   "execution_count": null,
   "id": "089357fc",
   "metadata": {
    "papermill": {
     "duration": null,
     "end_time": null,
     "exception": null,
     "start_time": null,
     "status": "pending"
    },
    "tags": []
   },
   "outputs": [],
   "source": [
    "#@title Cell 4: WebUI Launch 🚀\n",
    "%run $scripts_dir/launch.py"
   ]
  },
  {
   "cell_type": "code",
   "execution_count": null,
   "id": "9bed58bb",
   "metadata": {
    "papermill": {
     "duration": null,
     "end_time": null,
     "exception": null,
     "start_time": null,
     "status": "pending"
    },
    "tags": []
   },
   "outputs": [],
   "source": [
    "#@title Cell 5: Storage Management 🧹\n",
    "%run $scripts_dir/auto-cleaner.py"
   ]
  }
 ],
 "metadata": {
  "language_info": {
   "codemirror_mode": {
    "name": "ipython",
    "version": 3
   },
   "file_extension": ".py",
   "mimetype": "text/x-python",
   "name": "python",
   "nbconvert_exporter": "python",
   "pygments_lexer": "ipython3",
   "version": "3.13.3"
  },
  "papermill": {
   "default_parameters": {},
   "duration": 1.128179,
   "end_time": "2025-08-21T16:30:39.039182",
   "environment_variables": {},
   "exception": true,
   "input_path": "/workspace/notebook/SD-DarkMaster-Pro.ipynb",
   "output_path": "/workspace/notebook/SD-DarkMaster-Pro-colab-test.ipynb",
   "parameters": {},
   "start_time": "2025-08-21T16:30:37.911003",
   "version": "2.6.0"
  }
 },
 "nbformat": 4,
 "nbformat_minor": 5
}