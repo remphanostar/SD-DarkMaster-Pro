{
 "cells": [
  {
   "cell_type": "code",
   "execution_count": null,
   "id": "1b20da32",
   "metadata": {},
   "outputs": [],
   "source": [
    "#@title Cell 1: Setup Environment ⚙️\n",
    "from pathlib import Path\n",
    "import os, sys\n",
    "import subprocess\n",
    "\n",
    "def detect_current_platform():\n",
    "    if os.path.exists('/content'): return 'colab'\n",
    "    elif os.path.exists('/kaggle'): return 'kaggle'\n",
    "    elif os.path.exists('/workspace'): return 'workspace'\n",
    "    else: return 'local'\n",
    "\n",
    "def get_platform_root():\n",
    "    platform = detect_current_platform()\n",
    "    if platform == 'colab': return Path('/content')\n",
    "    elif platform == 'kaggle': return Path('/kaggle/working')\n",
    "    elif platform == 'workspace': return Path('/workspace')\n",
    "    else: return Path.home()\n",
    "\n",
    "platform_detected = detect_current_platform()\n",
    "project_root = get_platform_root() / 'SD-DarkMaster-Pro'\n",
    "scripts_dir = project_root / 'scripts'\n",
    "\n",
    "if not project_root.exists():\n",
    "    print(f\"🚀 Initializing SD-DarkMaster-Pro on {platform_detected} platform...\")\n",
    "    repo_url = \"https://github.com/remphanostar/SD-DarkMaster-Pro.git\"\n",
    "    subprocess.run(['git', 'clone', repo_url, str(project_root)], check=True)\n",
    "    print(\"✅ Repository cloned successfully!\")\n",
    "else:\n",
    "    print(f\"✅ SD-DarkMaster-Pro already exists at {project_root}\")\n",
    "    \n",
    "sys.path.insert(0, str(project_root))\n",
    "\n",
    "setup_script = scripts_dir / 'setup.py'\n",
    "if setup_script.exists():\n",
    "    print(f\"🔧 Running setup for {platform_detected} platform...\")\n",
    "    exec(open(setup_script).read())"
   ]
  },
  {
   "cell_type": "code",
   "execution_count": null,
   "id": "f419a409",
   "metadata": {},
   "outputs": [],
   "source": [
    "#@title Cell 2: Hybrid Dashboard 🌟\n",
    "%run $scripts_dir/widgets-en.py"
   ]
  },
  {
   "cell_type": "code",
   "execution_count": null,
   "id": "0b0102bc",
   "metadata": {},
   "outputs": [],
   "source": [
    "#@title Cell 3: Downloads 📦\n",
    "%run $scripts_dir/downloading-en.py"
   ]
  },
  {
   "cell_type": "code",
   "execution_count": null,
   "id": "089357fc",
   "metadata": {},
   "outputs": [],
   "source": [
    "#@title Cell 4: WebUI Launch 🚀\n",
    "%run $scripts_dir/launch.py"
   ]
  },
  {
   "cell_type": "code",
   "execution_count": null,
   "id": "9bed58bb",
   "metadata": {},
   "outputs": [],
   "source": [
    "#@title Cell 5: Storage Management 🧹\n",
    "%run $scripts_dir/auto-cleaner.py"
   ]
  }
 ],
 "metadata": {},
 "nbformat": 4,
 "nbformat_minor": 5
}
