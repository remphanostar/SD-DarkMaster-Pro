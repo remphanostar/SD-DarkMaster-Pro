{
  "cells": [
    {
      "cell_type": "code",
      "execution_count": null,
      "id": "1b20da32",
      "metadata": {},
      "outputs": [],
      "source": [
        "#@title Cell 1: Setup Environment \u2699\ufe0f\n",
        "from pathlib import Path\n",
        "import os, sys\n",
        "import subprocess\n",
        "\n",
        "def detect_current_platform():\n",
        "    if os.path.exists('/content'): return 'colab'\n",
        "    elif os.path.exists('/kaggle'): return 'kaggle'\n",
        "    elif os.path.exists('/workspace'): return 'workspace'\n",
        "    else: return 'local'\n",
        "\n",
        "def get_platform_root():\n",
        "    platform = detect_current_platform()\n",
        "    if platform == 'colab': return Path('/content')\n",
        "    elif platform == 'kaggle': return Path('/kaggle/working')\n",
        "    elif platform == 'workspace': return Path('/workspace')\n",
        "    else: return Path.home()\n",
        "\n",
        "platform_detected = detect_current_platform()\n",
        "project_root = get_platform_root() / 'SD-DarkMaster-Pro'\n",
        "scripts_dir = project_root / 'scripts'\n",
        "\n",
        "if not project_root.exists():\n",
        "    print(f\"\ud83d\ude80 Initializing SD-DarkMaster-Pro on {platform_detected} platform...\")\n",
        "    repo_url = \"https://github.com/remphanostar/SD-DarkMaster-Pro.git\"\n",
        "    subprocess.run(['git', 'clone', repo_url, str(project_root)], check=True)\n",
        "    print(\"\u2705 Repository cloned successfully!\")\n",
        "else:\n",
        "    print(f\"\u2705 SD-DarkMaster-Pro already exists at {project_root}\")\n",
        "    \n",
        "sys.path.insert(0, str(project_root))\n",
        "\n",
        "setup_script = scripts_dir / 'setup.py'\n",
        "if setup_script.exists():\n",
        "    print(f\"\ud83d\udd27 Running setup for {platform_detected} platform...\")\n",
        "    exec(open(setup_script).read())"
      ]
    },
    {
      "cell_type": "code",
      "execution_count": null,
      "metadata": {},
      "outputs": [],
      "source": "#@title Cell 2: Hybrid Dashboard with Ngrok \ud83c\udf1f\nimport os\nos.environ['NGROK_AUTH_TOKEN'] = '2tjxIXifSaGR3dMhkvhk6sZqbGo_6ZfBZLZHMbtAjfRmfoDW5'\nexec(open(f'{scripts_dir}/cell2_ngrok_launcher.py').read())"
    },
    {
      "cell_type": "code",
      "execution_count": null,
      "id": "0b0102bc",
      "metadata": {},
      "outputs": [],
      "source": [
        "#@title Cell 3: Downloads \ud83d\udce6\n",
        "%run $scripts_dir/downloading-en.py"
      ]
    },
    {
      "cell_type": "code",
      "execution_count": null,
      "id": "089357fc",
      "metadata": {},
      "outputs": [],
      "source": [
        "#@title Cell 4: WebUI Launch \ud83d\ude80\n",
        "%run $scripts_dir/launch.py"
      ]
    },
    {
      "cell_type": "code",
      "execution_count": null,
      "id": "9bed58bb",
      "metadata": {},
      "outputs": [],
      "source": [
        "#@title Cell 5: Storage Management \ud83e\uddf9\n",
        "%run $scripts_dir/auto-cleaner.py"
      ]
    }
  ],
  "metadata": {},
  "nbformat": 4,
  "nbformat_minor": 5
}