{
  "cells": [
    {
      "cell_type": "code",
      "execution_count": null,
      "metadata": {},
      "outputs": [],
      "source": "#@title Cell 1: Setup Environment \u2699\ufe0f\nfrom pathlib import Path\nimport os, sys\nimport subprocess\n\ndef detect_current_platform():\n    if 'google.colab' in sys.modules: \n        return 'colab'\n    elif os.path.exists('/kaggle'): \n        return 'kaggle'\n    elif os.path.exists('/workspace'): \n        return 'workspace'\n    else: \n        return 'local'\n\ndef get_platform_root():\n    platform = detect_current_platform()\n    if platform == 'colab': \n        return Path('/content')\n    elif platform == 'kaggle': \n        return Path('/kaggle/working')\n    elif platform == 'workspace': \n        return Path('/workspace')\n    else: \n        return Path.home()\n\nplatform_detected = detect_current_platform()\nplatform_root = get_platform_root()\n\n# Always use subdirectory for consistent structure\nproject_name = 'SD-DarkMaster-Pro'\nproject_root = platform_root / project_name\n\nif not project_root.exists():\n    print(f\"\ud83d\ude80 Cloning SD-DarkMaster-Pro on {platform_detected} platform...\")\n    repo_url = \"https://github.com/remphanostar/SD-DarkMaster-Pro.git\"\n    subprocess.run(['git', 'clone', repo_url, str(project_root)], check=True)\n    print(\"\u2705 Repository cloned successfully!\")\nelse:\n    print(f\"\u2705 SD-DarkMaster-Pro already exists at {project_root}\")\n    # For existing installations, pull latest changes\n    try:\n        subprocess.run(['git', '-C', str(project_root), 'pull'], check=True)\n        print(\"\u2705 Updated to latest version\")\n    except:\n        print(\"\u26a0\ufe0f Could not update (may have local changes)\")\n\nscripts_dir = project_root / 'scripts'\nsys.path.insert(0, str(project_root))\n\n# Run setup\nsetup_script = scripts_dir / 'setup.py'\nif setup_script.exists():\n    print(f\"\ud83d\udd27 Running setup for {platform_detected} platform...\")\n    exec(open(setup_script).read())\nelse:\n    print(f\"\u274c Setup script not found at {setup_script}\")\n    print(f\"Current directory contents: {list(project_root.iterdir())}\")"
    },
    {
      "cell_type": "code",
      "execution_count": null,
      "metadata": {},
      "outputs": [],
      "source": "#@title Cell 2: Hybrid Dashboard with Ngrok \ud83c\udf1f\nimport os\nos.environ['NGROK_AUTH_TOKEN'] = '2tjxIXifSaGR3dMhkvhk6sZqbGo_6ZfBZLZHMbtAjfRmfoDW5'\nexec(open(f'{scripts_dir}/cell2_ngrok_launcher.py').read())"
    },
    {
      "cell_type": "code",
      "execution_count": null,
      "metadata": {},
      "outputs": [],
      "source": "#@title Cell 2b: Simple Configuration UI (Fallback) \ud83c\udfaf\n# Use this cell if Cell 2 doesn't work or if you prefer a simpler in-notebook interface\nexec(open(f'{scripts_dir}/cell2_fallback.py').read())"
    },
    {
      "cell_type": "code",
      "execution_count": null,
      "metadata": {},
      "outputs": [],
      "source": "#@title Cell 3: Downloads \ud83d\udce6\nexec(open(f'{scripts_dir}/downloading-en.py').read())"
    },
    {
      "cell_type": "code",
      "execution_count": null,
      "metadata": {},
      "outputs": [],
      "source": "#@title Cell 4: WebUI Launch \ud83d\ude80\nexec(open(f'{scripts_dir}/launch.py').read())"
    },
    {
      "cell_type": "code",
      "execution_count": null,
      "metadata": {},
      "outputs": [],
      "source": "#@title Cell 5: Storage Management \ud83e\uddf9\nexec(open(f'{scripts_dir}/auto-cleaner.py').read())"
    }
  ],
  "metadata": {
    "kernelspec": {
      "display_name": "Python 3",
      "language": "python",
      "name": "python3"
    },
    "language_info": {
      "name": "python",
      "version": "3.9.0"
    }
  },
  "nbformat": 4,
  "nbformat_minor": 4
}