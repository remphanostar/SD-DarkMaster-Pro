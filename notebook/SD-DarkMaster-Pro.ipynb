{
 "cells": [
  {
   "cell_type": "code",
   "execution_count": null,
   "id": "17d03cb3",
   "metadata": {},
   "outputs": [],
   "source": [
    "#@title Cell 1: Setup Environment ⚙️\n",
    "from pathlib import Path\n",
    "import os, sys\n",
    "import subprocess\n",
    "\n",
    "def detect_current_platform():\n",
    "    if 'google.colab' in sys.modules: \n",
    "        return 'colab'\n",
    "    elif os.path.exists('/kaggle'): \n",
    "        return 'kaggle'\n",
    "    elif os.path.exists('/workspace'): \n",
    "        return 'workspace'\n",
    "    else: \n",
    "        return 'local'\n",
    "\n",
    "def get_platform_root():\n",
    "    platform = detect_current_platform()\n",
    "    if platform == 'colab': \n",
    "        return Path('/content')\n",
    "    elif platform == 'kaggle': \n",
    "        return Path('/kaggle/working')\n",
    "    elif platform == 'workspace': \n",
    "        return Path('/workspace')\n",
    "    else: \n",
    "        return Path.home()\n",
    "\n",
    "platform_detected = detect_current_platform()\n",
    "platform_root = get_platform_root()\n",
    "\n",
    "# Always use subdirectory for consistent structure\n",
    "project_name = 'SD-DarkMaster-Pro'\n",
    "project_root = platform_root / project_name\n",
    "\n",
    "if not project_root.exists():\n",
    "    print(f\"🚀 Cloning SD-DarkMaster-Pro on {platform_detected} platform...\")\n",
    "    repo_url = \"https://github.com/remphanostar/SD-DarkMaster-Pro.git\"\n",
    "    subprocess.run(['git', 'clone', repo_url, str(project_root)], check=True)\n",
    "    print(\"✅ Repository cloned successfully!\")\n",
    "else:\n",
    "    print(f\"✅ SD-DarkMaster-Pro already exists at {project_root}\")\n",
    "    # For existing installations, pull latest changes\n",
    "    try:\n",
    "        subprocess.run(['git', '-C', str(project_root), 'pull'], check=True)\n",
    "        print(\"✅ Updated to latest version\")\n",
    "    except:\n",
    "        print(\"⚠️ Could not update (may have local changes)\")\n",
    "\n",
    "scripts_dir = project_root / 'scripts'\n",
    "sys.path.insert(0, str(project_root))\n",
    "\n",
    "# Run setup\n",
    "setup_script = scripts_dir / 'setup.py'\n",
    "if setup_script.exists():\n",
    "    print(f\"🔧 Running setup for {platform_detected} platform...\")\n",
    "    exec(open(setup_script).read())\n",
    "else:\n",
    "    print(f\"❌ Setup script not found at {setup_script}\")\n",
    "    print(f\"Current directory contents: {list(project_root.iterdir())}\")"
   ]
  },
  {
   "cell_type": "code",
   "execution_count": null,
   "id": "4b2305ac",
   "metadata": {},
   "outputs": [],
   "source": [
    "#@title Cell 2: Hybrid Dashboard with Ngrok 🌟\n",
    "import os\n",
    "os.environ['NGROK_AUTH_TOKEN'] = '2tjxIXifSaGR3dMhkvhk6sZqbGo_6ZfBZLZHMbtAjfRmfoDW5'\n",
    "exec(open(f'{scripts_dir}/cell2_ngrok_launcher.py').read())"
   ]
  },
  {
   "cell_type": "code",
   "execution_count": null,
   "id": "013029d4",
   "metadata": {},
   "outputs": [],
   "source": [
    "#@title Cell 2b: Simple Configuration UI (Fallback) 🎯\n",
    "# Use this cell if Cell 2 doesn't work or if you prefer a simpler in-notebook interface\n",
    "exec(open(f'{scripts_dir}/cell2_fallback.py').read())"
   ]
  },
  {
   "cell_type": "code",
   "execution_count": null,
   "id": "38e41577",
   "metadata": {},
   "outputs": [],
   "source": [
    "#@title Cell 4: Downloads 📦\n",
    "%run $scripts_dir/downloading-en.py"
   ]
  },
  {
   "cell_type": "code",
   "execution_count": null,
   "id": "a1c3bfa4",
   "metadata": {},
   "outputs": [],
   "source": [
    "#@title Cell 5: WebUI Launch 🚀\n",
    "%run $scripts_dir/launch.py"
   ]
  },
  {
   "cell_type": "code",
   "execution_count": null,
   "id": "516577a7",
   "metadata": {},
   "outputs": [],
   "source": [
    "#@title Cell 6: Storage Management 🧹\n",
    "%run $scripts_dir/auto-cleaner.py"
   ]
  }
 ],
 "metadata": {
  "kernelspec": {
   "display_name": "Python 3",
   "language": "python",
   "name": "python3"
  },
  "language_info": {
   "codemirror_mode": {
    "name": "ipython",
    "version": 3
   },
   "file_extension": ".py",
   "mimetype": "text/x-python",
   "name": "python",
   "nbconvert_exporter": "python",
   "pygments_lexer": "ipython3",
   "version": "3.10.0"
  }
 },
 "nbformat": 4,
 "nbformat_minor": 5
}
