{
 "cells": [
  {
   "cell_type": "markdown",
   "id": "ed462afd",
   "metadata": {
    "tags": [
     "papermill-error-cell-tag"
    ]
   },
   "source": [
    "<span style=\"color:red; font-family:Helvetica Neue, Helvetica, Arial, sans-serif; font-size:2em;\">An Exception was encountered at '<a href=\"#papermill-error-cell\">In [2]</a>'.</span>"
   ]
  },
  {
   "cell_type": "code",
   "execution_count": 1,
   "id": "1b20da32",
   "metadata": {
    "execution": {
     "iopub.execute_input": "2025-08-23T11:26:34.378264Z",
     "iopub.status.busy": "2025-08-23T11:26:34.378102Z",
     "iopub.status.idle": "2025-08-23T11:26:37.812100Z",
     "shell.execute_reply": "2025-08-23T11:26:37.811525Z"
    },
    "papermill": {
     "duration": 3.436212,
     "end_time": "2025-08-23T11:26:37.812808",
     "exception": false,
     "start_time": "2025-08-23T11:26:34.376596",
     "status": "completed"
    },
    "tags": []
   },
   "outputs": [
    {
     "name": "stdout",
     "output_type": "stream",
     "text": [
      "✅ SD-DarkMaster-Pro already exists at /workspace\n",
      "🔧 Running setup for workspace platform...\n",
      "2025-08-23 11:26:34,386 | WARNING | Extensions file not found: /workspace/SD-DarkMaster-Pro/scripts/_extensions.txt\n"
     ]
    },
    {
     "name": "stdout",
     "output_type": "stream",
     "text": [
      "\n",
      "============================================================\n",
      "🌟 SD-DarkMaster-Pro Setup v1.0.0\n",
      "🎨 Dark Mode Pro Theme Activated\n",
      "🖥️  Platform: workspace\n",
      "🚀 GPU Available: False\n",
      "============================================================\n",
      "\n",
      "2025-08-23 11:26:34,388 | INFO | Session initialized: 717301c8\n"
     ]
    },
    {
     "name": "stdout",
     "output_type": "stream",
     "text": [
      "2025-08-23 11:26:34,389 | INFO | Installing core dependencies...\n"
     ]
    },
    {
     "name": "stdout",
     "output_type": "stream",
     "text": [
      "2025-08-23 11:26:34,389 | INFO | Installing 27 dependencies for workspace\n"
     ]
    },
    {
     "name": "stdout",
     "output_type": "stream",
     "text": [
      "2025-08-23 11:26:35,423 | INFO | Installed batch 1: ['streamlit>=1.29.0', 'gradio>=4.0.0', 'torch>=2.0.0', 'streamlit-option-menu>=0.3.6', 'streamlit-antd-components>=0.3.0']\n"
     ]
    },
    {
     "name": "stdout",
     "output_type": "stream",
     "text": [
      "2025-08-23 11:26:36,031 | INFO | Installed batch 2: ['streamlit-card>=0.0.5', 'streamlit-extras>=0.3.6', 'torchvision', 'transformers>=4.30.0', 'diffusers>=0.21.0']\n"
     ]
    },
    {
     "name": "stdout",
     "output_type": "stream",
     "text": [
      "2025-08-23 11:26:36,493 | INFO | Installed batch 3: ['accelerate', 'xformers', 'opencv-python', 'Pillow>=10.0.0', 'numpy']\n"
     ]
    },
    {
     "name": "stdout",
     "output_type": "stream",
     "text": [
      "2025-08-23 11:26:36,931 | INFO | Installed batch 4: ['pandas', 'requests', 'tqdm', 'pyyaml', 'jsonschema']\n"
     ]
    },
    {
     "name": "stdout",
     "output_type": "stream",
     "text": [
      "2025-08-23 11:26:37,380 | INFO | Installed batch 5: ['aiohttp', 'aiofiles', 'psutil', 'matplotlib', 'seaborn']\n"
     ]
    },
    {
     "name": "stdout",
     "output_type": "stream",
     "text": [
      "2025-08-23 11:26:37,800 | INFO | Installed batch 6: ['plotly', 'rich']\n"
     ]
    },
    {
     "name": "stdout",
     "output_type": "stream",
     "text": [
      "2025-08-23 11:26:37,801 | INFO | Setting up unified storage...\n"
     ]
    },
    {
     "name": "stdout",
     "output_type": "stream",
     "text": [
      "2025-08-23 11:26:37,801 | INFO | Setting up unified storage structure...\n"
     ]
    },
    {
     "name": "stdout",
     "output_type": "stream",
     "text": [
      "2025-08-23 11:26:37,802 | INFO | Created checkpoints directory: /workspace/SD-DarkMaster-Pro/storage/models/Stable-diffusion\n"
     ]
    },
    {
     "name": "stdout",
     "output_type": "stream",
     "text": [
      "2025-08-23 11:26:37,802 | INFO | Created vae directory: /workspace/SD-DarkMaster-Pro/storage/models/VAE\n"
     ]
    },
    {
     "name": "stdout",
     "output_type": "stream",
     "text": [
      "2025-08-23 11:26:37,802 | INFO | Created lora directory: /workspace/SD-DarkMaster-Pro/storage/models/Lora\n"
     ]
    },
    {
     "name": "stdout",
     "output_type": "stream",
     "text": [
      "2025-08-23 11:26:37,803 | INFO | Created embeddings directory: /workspace/SD-DarkMaster-Pro/storage/embeddings\n"
     ]
    },
    {
     "name": "stdout",
     "output_type": "stream",
     "text": [
      "2025-08-23 11:26:37,804 | INFO | Created hypernetworks directory: /workspace/SD-DarkMaster-Pro/storage/models/hypernetworks\n"
     ]
    },
    {
     "name": "stdout",
     "output_type": "stream",
     "text": [
      "2025-08-23 11:26:37,804 | INFO | Created controlnet directory: /workspace/SD-DarkMaster-Pro/storage/models/ControlNet\n"
     ]
    },
    {
     "name": "stdout",
     "output_type": "stream",
     "text": [
      "2025-08-23 11:26:37,805 | INFO | Created upscalers directory: /workspace/SD-DarkMaster-Pro/storage/models/ESRGAN\n"
     ]
    },
    {
     "name": "stdout",
     "output_type": "stream",
     "text": [
      "2025-08-23 11:26:37,805 | INFO | Creating configuration files...\n"
     ]
    },
    {
     "name": "stdout",
     "output_type": "stream",
     "text": [
      "2025-08-23 11:26:37,806 | INFO | Created Streamlit config: /workspace/SD-DarkMaster-Pro/configs/streamlit/config.toml\n"
     ]
    },
    {
     "name": "stdout",
     "output_type": "stream",
     "text": [
      "2025-08-23 11:26:37,806 | INFO | Created Gradio config: /workspace/SD-DarkMaster-Pro/configs/gradio_fallback/interface_config.json\n"
     ]
    },
    {
     "name": "stdout",
     "output_type": "stream",
     "text": [
      "2025-08-23 11:26:37,808 | INFO | Created environment config: /workspace/SD-DarkMaster-Pro/configs/environment.json\n"
     ]
    },
    {
     "name": "stdout",
     "output_type": "stream",
     "text": [
      "\n",
      "============================================================\n",
      "✅ Setup Complete!\n",
      "⏱️  Duration: 3.42 seconds\n",
      "📁 Project Root: /workspace/SD-DarkMaster-Pro\n",
      "🎨 Theme: Dark Mode Pro\n",
      "🚀 Status: Ready to launch\n",
      "============================================================\n",
      "\n"
     ]
    },
    {
     "name": "stderr",
     "output_type": "stream",
     "text": [
      "<string>:661: RuntimeWarning: coroutine 'SetupOrchestrator.run_setup' was never awaited\n",
      "RuntimeWarning: Enable tracemalloc to get the object allocation traceback\n"
     ]
    }
   ],
   "source": [
    "#@title Cell 1: Setup Environment ⚙️\n",
    "from pathlib import Path\n",
    "import os, sys\n",
    "import subprocess\n",
    "\n",
    "def detect_current_platform():\n",
    "    if os.path.exists('/content'): return 'colab'\n",
    "    elif os.path.exists('/kaggle'): return 'kaggle'\n",
    "    elif os.path.exists('/workspace'): return 'workspace'\n",
    "    else: return 'local'\n",
    "\n",
    "def get_platform_root():\n",
    "    platform = detect_current_platform()\n",
    "    if platform == 'colab': return Path('/content')\n",
    "    elif platform == 'kaggle': return Path('/kaggle/working')\n",
    "    elif platform == 'workspace': return Path('/workspace')\n",
    "    else: return Path.home()\n",
    "\n",
    "platform_detected = detect_current_platform()\n",
    "project_root = get_platform_root()  # Fixed: Use workspace root directly\n",
    "scripts_dir = project_root / 'scripts'\n",
    "\n",
    "if not project_root.exists():\n",
    "    print(f\"🚀 Initializing SD-DarkMaster-Pro on {platform_detected} platform...\")\n",
    "    repo_url = \"https://github.com/remphanostar/SD-DarkMaster-Pro.git\"\n",
    "    subprocess.run(['git', 'clone', repo_url, str(project_root)], check=True)\n",
    "    print(\"✅ Repository cloned successfully!\")\n",
    "else:\n",
    "    print(f\"✅ SD-DarkMaster-Pro already exists at {project_root}\")\n",
    "    \n",
    "sys.path.insert(0, str(project_root))\n",
    "\n",
    "setup_script = scripts_dir / 'setup.py'\n",
    "if setup_script.exists():\n",
    "    print(f\"🔧 Running setup for {platform_detected} platform...\")\n",
    "    exec(open(setup_script).read())"
   ]
  },
  {
   "cell_type": "markdown",
   "id": "a55c1c6e",
   "metadata": {
    "tags": [
     "papermill-error-cell-tag"
    ]
   },
   "source": [
    "<span id=\"papermill-error-cell\" style=\"color:red; font-family:Helvetica Neue, Helvetica, Arial, sans-serif; font-size:2em;\">Execution using papermill encountered an exception here and stopped:</span>"
   ]
  },
  {
   "cell_type": "code",
   "execution_count": 2,
   "id": "f7b5ad06",
   "metadata": {
    "execution": {
     "iopub.execute_input": "2025-08-23T11:26:37.816698Z",
     "iopub.status.busy": "2025-08-23T11:26:37.816544Z",
     "iopub.status.idle": "2025-08-23T11:26:38.046047Z",
     "shell.execute_reply": "2025-08-23T11:26:38.045313Z"
    },
    "papermill": {
     "duration": 0.232773,
     "end_time": "2025-08-23T11:26:38.047267",
     "exception": true,
     "start_time": "2025-08-23T11:26:37.814494",
     "status": "failed"
    },
    "tags": []
   },
   "outputs": [
    {
     "ename": "NameError",
     "evalue": "name '__file__' is not defined",
     "output_type": "error",
     "traceback": [
      "\u001b[31m---------------------------------------------------------------------------\u001b[39m",
      "\u001b[31mNameError\u001b[39m                                 Traceback (most recent call last)",
      "\u001b[36mCell\u001b[39m\u001b[36m \u001b[39m\u001b[32mIn[2]\u001b[39m\u001b[32m, line 4\u001b[39m\n\u001b[32m      2\u001b[39m \u001b[38;5;28;01mimport\u001b[39;00m\u001b[38;5;250m \u001b[39m\u001b[34;01mos\u001b[39;00m\n\u001b[32m      3\u001b[39m os.environ[\u001b[33m'\u001b[39m\u001b[33mNGROK_AUTH_TOKEN\u001b[39m\u001b[33m'\u001b[39m] = \u001b[33m'\u001b[39m\u001b[33m2tjxIXifSaGR3dMhkvhk6sZqbGo_6ZfBZLZHMbtAjfRmfoDW5\u001b[39m\u001b[33m'\u001b[39m\n\u001b[32m----> \u001b[39m\u001b[32m4\u001b[39m \u001b[43mexec\u001b[49m\u001b[43m(\u001b[49m\u001b[38;5;28;43mopen\u001b[39;49m\u001b[43m(\u001b[49m\u001b[33;43mf\u001b[39;49m\u001b[33;43m'\u001b[39;49m\u001b[38;5;132;43;01m{\u001b[39;49;00m\u001b[43mscripts_dir\u001b[49m\u001b[38;5;132;43;01m}\u001b[39;49;00m\u001b[33;43m/cell2_ngrok_launcher.py\u001b[39;49m\u001b[33;43m'\u001b[39;49m\u001b[43m)\u001b[49m\u001b[43m.\u001b[49m\u001b[43mread\u001b[49m\u001b[43m(\u001b[49m\u001b[43m)\u001b[49m\u001b[43m)\u001b[49m\n",
      "\u001b[36mFile \u001b[39m\u001b[32m<string>:44\u001b[39m\n",
      "\u001b[36mFile \u001b[39m\u001b[32m<string>:17\u001b[39m\n",
      "\u001b[31mNameError\u001b[39m: name '__file__' is not defined"
     ]
    }
   ],
   "source": [
    "#@title Cell 2: Hybrid Dashboard with Ngrok 🌟\n",
    "import os\n",
    "os.environ['NGROK_AUTH_TOKEN'] = '2tjxIXifSaGR3dMhkvhk6sZqbGo_6ZfBZLZHMbtAjfRmfoDW5'\n",
    "exec(open(f'{scripts_dir}/cell2_ngrok_launcher.py').read())"
   ]
  },
  {
   "cell_type": "code",
   "execution_count": null,
   "id": "0b0102bc",
   "metadata": {
    "papermill": {
     "duration": null,
     "end_time": null,
     "exception": null,
     "start_time": null,
     "status": "pending"
    },
    "tags": []
   },
   "outputs": [],
   "source": [
    "#@title Cell 3: Downloads 📦\n",
    "%run $scripts_dir/downloading-en.py"
   ]
  },
  {
   "cell_type": "code",
   "execution_count": null,
   "id": "089357fc",
   "metadata": {
    "papermill": {
     "duration": null,
     "end_time": null,
     "exception": null,
     "start_time": null,
     "status": "pending"
    },
    "tags": []
   },
   "outputs": [],
   "source": [
    "#@title Cell 4: WebUI Launch 🚀\n",
    "%run $scripts_dir/launch.py"
   ]
  },
  {
   "cell_type": "code",
   "execution_count": null,
   "id": "9bed58bb",
   "metadata": {
    "papermill": {
     "duration": null,
     "end_time": null,
     "exception": null,
     "start_time": null,
     "status": "pending"
    },
    "tags": []
   },
   "outputs": [],
   "source": [
    "#@title Cell 5: Storage Management 🧹\n",
    "%run $scripts_dir/auto-cleaner.py"
   ]
  }
 ],
 "metadata": {
  "kernelspec": {
   "display_name": "Python 3",
   "language": "python",
   "name": "python3"
  },
  "language_info": {
   "codemirror_mode": {
    "name": "ipython",
    "version": 3
   },
   "file_extension": ".py",
   "mimetype": "text/x-python",
   "name": "python",
   "nbconvert_exporter": "python",
   "pygments_lexer": "ipython3",
   "version": "3.13.3"
  },
  "papermill": {
   "default_parameters": {},
   "duration": 4.558189,
   "end_time": "2025-08-23T11:26:38.265572",
   "environment_variables": {},
   "exception": true,
   "input_path": "/workspace/notebook/SD-DarkMaster-Pro.ipynb",
   "output_path": "/workspace/notebook/output.ipynb",
   "parameters": {},
   "start_time": "2025-08-23T11:26:33.707383",
   "version": "2.6.0"
  }
 },
 "nbformat": 4,
 "nbformat_minor": 5
}