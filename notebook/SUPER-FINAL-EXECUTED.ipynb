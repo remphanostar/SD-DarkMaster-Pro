{
 "cells": [
  {
   "cell_type": "markdown",
   "id": "59d81b96",
   "metadata": {
    "tags": [
     "papermill-error-cell-tag"
    ]
   },
   "source": [
    "<span style=\"color:red; font-family:Helvetica Neue, Helvetica, Arial, sans-serif; font-size:2em;\">An Exception was encountered at '<a href=\"#papermill-error-cell\">In [1]</a>'.</span>"
   ]
  },
  {
   "cell_type": "markdown",
   "id": "53fa5891",
   "metadata": {
    "tags": [
     "papermill-error-cell-tag"
    ]
   },
   "source": [
    "<span id=\"papermill-error-cell\" style=\"color:red; font-family:Helvetica Neue, Helvetica, Arial, sans-serif; font-size:2em;\">Execution using papermill encountered an exception here and stopped:</span>"
   ]
  },
  {
   "cell_type": "code",
   "execution_count": 1,
   "id": "5fe08a8b",
   "metadata": {
    "execution": {
     "iopub.execute_input": "2025-08-21T10:51:51.123819Z",
     "iopub.status.busy": "2025-08-21T10:51:51.123631Z",
     "iopub.status.idle": "2025-08-21T10:51:51.417526Z",
     "shell.execute_reply": "2025-08-21T10:51:51.416432Z"
    },
    "papermill": {
     "duration": 0.297116,
     "end_time": "2025-08-21T10:51:51.418708",
     "exception": true,
     "start_time": "2025-08-21T10:51:51.121592",
     "status": "failed"
    },
    "tags": []
   },
   "outputs": [
    {
     "name": "stdout",
     "output_type": "stream",
     "text": [
      "🚀 Initializing SD-DarkMaster-Pro on workspace platform...\n",
      "📁 Project root: /workspace/SD-DarkMaster-Pro\n"
     ]
    },
    {
     "name": "stderr",
     "output_type": "stream",
     "text": [
      "Cloning into '/workspace/SD-DarkMaster-Pro'...\n",
      "remote: Repository not found.\n",
      "fatal: repository 'https://github.com/anxietysolo/SD-DarkMaster-Pro.git/' not found\n"
     ]
    },
    {
     "ename": "CalledProcessError",
     "evalue": "Command '['git', 'clone', 'https://github.com/anxietysolo/SD-DarkMaster-Pro.git', '/workspace/SD-DarkMaster-Pro']' returned non-zero exit status 128.",
     "output_type": "error",
     "traceback": [
      "\u001b[31m---------------------------------------------------------------------------\u001b[39m",
      "\u001b[31mCalledProcessError\u001b[39m                        Traceback (most recent call last)",
      "\u001b[36mCell\u001b[39m\u001b[36m \u001b[39m\u001b[32mIn[1]\u001b[39m\u001b[32m, line 62\u001b[39m\n\u001b[32m     60\u001b[39m     \u001b[38;5;66;03m# Clone the repository\u001b[39;00m\n\u001b[32m     61\u001b[39m     repo_url = \u001b[33m\"\u001b[39m\u001b[33mhttps://github.com/anxietysolo/SD-DarkMaster-Pro.git\u001b[39m\u001b[33m\"\u001b[39m\n\u001b[32m---> \u001b[39m\u001b[32m62\u001b[39m     \u001b[43msubprocess\u001b[49m\u001b[43m.\u001b[49m\u001b[43mrun\u001b[49m\u001b[43m(\u001b[49m\u001b[43m[\u001b[49m\u001b[33;43m'\u001b[39;49m\u001b[33;43mgit\u001b[39;49m\u001b[33;43m'\u001b[39;49m\u001b[43m,\u001b[49m\u001b[43m \u001b[49m\u001b[33;43m'\u001b[39;49m\u001b[33;43mclone\u001b[39;49m\u001b[33;43m'\u001b[39;49m\u001b[43m,\u001b[49m\u001b[43m \u001b[49m\u001b[43mrepo_url\u001b[49m\u001b[43m,\u001b[49m\u001b[43m \u001b[49m\u001b[38;5;28;43mstr\u001b[39;49m\u001b[43m(\u001b[49m\u001b[43mproject_root\u001b[49m\u001b[43m)\u001b[49m\u001b[43m]\u001b[49m\u001b[43m,\u001b[49m\u001b[43m \u001b[49m\u001b[43mcheck\u001b[49m\u001b[43m=\u001b[49m\u001b[38;5;28;43;01mTrue\u001b[39;49;00m\u001b[43m)\u001b[49m\n\u001b[32m     63\u001b[39m     \u001b[38;5;28mprint\u001b[39m(\u001b[33m\"\u001b[39m\u001b[33m✅ Repository cloned successfully!\u001b[39m\u001b[33m\"\u001b[39m)\n\u001b[32m     64\u001b[39m \u001b[38;5;28;01melse\u001b[39;00m:\n",
      "\u001b[36mFile \u001b[39m\u001b[32m/usr/lib/python3.13/subprocess.py:577\u001b[39m, in \u001b[36mrun\u001b[39m\u001b[34m(input, capture_output, timeout, check, *popenargs, **kwargs)\u001b[39m\n\u001b[32m    575\u001b[39m     retcode = process.poll()\n\u001b[32m    576\u001b[39m     \u001b[38;5;28;01mif\u001b[39;00m check \u001b[38;5;129;01mand\u001b[39;00m retcode:\n\u001b[32m--> \u001b[39m\u001b[32m577\u001b[39m         \u001b[38;5;28;01mraise\u001b[39;00m CalledProcessError(retcode, process.args,\n\u001b[32m    578\u001b[39m                                  output=stdout, stderr=stderr)\n\u001b[32m    579\u001b[39m \u001b[38;5;28;01mreturn\u001b[39;00m CompletedProcess(process.args, retcode, stdout, stderr)\n",
      "\u001b[31mCalledProcessError\u001b[39m: Command '['git', 'clone', 'https://github.com/anxietysolo/SD-DarkMaster-Pro.git', '/workspace/SD-DarkMaster-Pro']' returned non-zero exit status 128."
     ]
    }
   ],
   "source": [
    "#@title Cell 1: Setup Environment ⚙️\n",
    "from pathlib import Path\n",
    "import os, sys\n",
    "import subprocess\n",
    "\n",
    "# Detect current platform\n",
    "def detect_current_platform():\n",
    "    \"\"\"Detect the current cloud GPU platform\"\"\"\n",
    "    if os.path.exists('/content'):\n",
    "        return 'colab'\n",
    "    elif os.path.exists('/kaggle'):\n",
    "        return 'kaggle'\n",
    "    elif os.path.exists('/workspace'):\n",
    "        return 'workspace'\n",
    "    elif 'LIGHTNING_CLOUD_PROJECT_ID' in os.environ:\n",
    "        return 'lightning'\n",
    "    elif 'PAPERSPACE_GRADIENT_ID' in os.environ:\n",
    "        return 'paperspace'\n",
    "    elif 'RUNPOD_POD_ID' in os.environ:\n",
    "        return 'runpod'\n",
    "    elif 'VAST_CONTAINERLABEL' in os.environ:\n",
    "        return 'vast'\n",
    "    elif 'SAGEMAKER_INTERNAL_IMAGE_URI' in os.environ:\n",
    "        return 'sagemaker'\n",
    "    else:\n",
    "        return 'local'\n",
    "\n",
    "def get_platform_root():\n",
    "    \"\"\"Get the appropriate root directory for the platform\"\"\"\n",
    "    platform = detect_current_platform()\n",
    "    if platform == 'colab':\n",
    "        return Path('/content')\n",
    "    elif platform == 'kaggle':\n",
    "        return Path('/kaggle/working')\n",
    "    elif platform == 'workspace':\n",
    "        return Path('/workspace')\n",
    "    elif platform == 'lightning':\n",
    "        return Path.home() / 'work'\n",
    "    elif platform == 'paperspace':\n",
    "        return Path('/notebooks')\n",
    "    elif platform == 'runpod':\n",
    "        return Path('/workspace')\n",
    "    elif platform == 'vast':\n",
    "        return Path('/workspace')\n",
    "    elif platform == 'sagemaker':\n",
    "        return Path('/opt/ml/code')\n",
    "    else:\n",
    "        return Path.home()\n",
    "\n",
    "# Hybrid dual-framework bootstrap with Dark Mode Pro theming\n",
    "platform_detected = detect_current_platform()\n",
    "project_root = get_platform_root() / 'SD-DarkMaster-Pro'\n",
    "scripts_dir = project_root / 'scripts'\n",
    "\n",
    "# Self-cloning bootstrap sequence\n",
    "if not project_root.exists():\n",
    "    print(f\"🚀 Initializing SD-DarkMaster-Pro on {platform_detected} platform...\")\n",
    "    print(f\"📁 Project root: {project_root}\")\n",
    "    \n",
    "    # Clone the repository\n",
    "    repo_url = \"https://github.com/anxietysolo/SD-DarkMaster-Pro.git\"\n",
    "    subprocess.run(['git', 'clone', repo_url, str(project_root)], check=True)\n",
    "    print(\"✅ Repository cloned successfully!\")\n",
    "else:\n",
    "    print(f\"✅ SD-DarkMaster-Pro already exists at {project_root}\")\n",
    "    \n",
    "# Add project to path\n",
    "sys.path.insert(0, str(project_root))\n",
    "\n",
    "# Run setup script with platform-specific optimizations\n",
    "setup_script = scripts_dir / 'setup.py'\n",
    "if setup_script.exists():\n",
    "    print(f\"🔧 Running setup for {platform_detected} platform with Dark Mode Pro theme...\")\n",
    "    exec(open(setup_script).read())\n",
    "else:\n",
    "    print(\"⚠️ Setup script not found. Please ensure the repository is properly cloned.\")"
   ]
  },
  {
   "cell_type": "code",
   "execution_count": null,
   "id": "e4fe9829",
   "metadata": {
    "execution": {
     "iopub.execute_input": "2025-08-20T03:26:00.223745Z",
     "iopub.status.busy": "2025-08-20T03:26:00.223626Z",
     "iopub.status.idle": "2025-08-20T03:26:04.060443Z",
     "shell.execute_reply": "2025-08-20T03:26:04.060107Z"
    },
    "papermill": {
     "duration": null,
     "end_time": null,
     "exception": null,
     "start_time": null,
     "status": "pending"
    },
    "tags": []
   },
   "outputs": [],
   "source": [
    "#@title Cell 2: Hybrid Dashboard & CivitAI Browser 🌟\n",
    "# This cell launches the hybrid Streamlit/Gradio interface with native CivitAI browser\n",
    "%run $scripts_dir/widgets-en.py"
   ]
  },
  {
   "cell_type": "code",
   "execution_count": null,
   "id": "e4245d5b",
   "metadata": {
    "execution": {
     "iopub.execute_input": "2025-08-20T03:26:04.062395Z",
     "iopub.status.busy": "2025-08-20T03:26:04.062215Z",
     "iopub.status.idle": "2025-08-20T03:26:04.269235Z",
     "shell.execute_reply": "2025-08-20T03:26:04.268665Z"
    },
    "papermill": {
     "duration": null,
     "end_time": null,
     "exception": null,
     "start_time": null,
     "status": "pending"
    },
    "tags": []
   },
   "outputs": [],
   "source": [
    "#@title Cell 3: Intelligent Downloads & Storage 📦\n",
    "# This cell handles all downloads with unified storage management\n",
    "%run $scripts_dir/downloading-en.py"
   ]
  },
  {
   "cell_type": "code",
   "execution_count": null,
   "id": "a41d2925",
   "metadata": {
    "execution": {
     "iopub.execute_input": "2025-08-20T03:26:04.270508Z",
     "iopub.status.busy": "2025-08-20T03:26:04.270401Z",
     "iopub.status.idle": "2025-08-20T03:26:05.592819Z",
     "shell.execute_reply": "2025-08-20T03:26:05.591783Z"
    },
    "papermill": {
     "duration": null,
     "end_time": null,
     "exception": null,
     "start_time": null,
     "status": "pending"
    },
    "tags": []
   },
   "outputs": [],
   "source": [
    "#@title Cell 4: Multi-Platform WebUI Launch 🚀\n",
    "# This cell launches the selected WebUI with platform-specific optimizations\n",
    "%run $scripts_dir/launch.py"
   ]
  },
  {
   "cell_type": "code",
   "execution_count": null,
   "id": "45185139",
   "metadata": {
    "execution": {
     "iopub.execute_input": "2025-08-20T03:26:05.595492Z",
     "iopub.status.busy": "2025-08-20T03:26:05.595350Z",
     "iopub.status.idle": "2025-08-20T03:26:05.605792Z",
     "shell.execute_reply": "2025-08-20T03:26:05.604836Z"
    },
    "papermill": {
     "duration": null,
     "end_time": null,
     "exception": null,
     "start_time": null,
     "status": "pending"
    },
    "tags": []
   },
   "outputs": [],
   "source": [
    "#@title Cell 5: Advanced Storage Management 🧹\n",
    "# This cell provides storage visualization and cleanup tools\n",
    "%run $scripts_dir/auto-cleaner.py"
   ]
  }
 ],
 "metadata": {
  "language_info": {
   "codemirror_mode": {
    "name": "ipython",
    "version": 3
   },
   "file_extension": ".py",
   "mimetype": "text/x-python",
   "name": "python",
   "nbconvert_exporter": "python",
   "pygments_lexer": "ipython3",
   "version": "3.13.3"
  },
  "papermill": {
   "default_parameters": {},
   "duration": 1.218933,
   "end_time": "2025-08-21T10:51:51.637785",
   "environment_variables": {},
   "exception": true,
   "input_path": "/workspace/SD-DarkMaster-Pro-SUPER-DUPER-FINAL-LAST-EDITION/notebook/SD-DarkMaster-Pro.ipynb",
   "output_path": "/workspace/SD-DarkMaster-Pro-SUPER-DUPER-FINAL-LAST-EDITION/notebook/SUPER-FINAL-EXECUTED.ipynb",
   "parameters": {},
   "start_time": "2025-08-21T10:51:50.418852",
   "version": "2.6.0"
  }
 },
 "nbformat": 4,
 "nbformat_minor": 5
}